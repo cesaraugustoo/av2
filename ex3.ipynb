{
 "cells": [
  {
   "cell_type": "markdown",
   "id": "28730a34",
   "metadata": {},
   "source": [
    "### Exercício 3"
   ]
  },
  {
   "cell_type": "markdown",
   "id": "09071a15",
   "metadata": {},
   "source": [
    "Suponha que a posição de um ponto no espaço bidimensional nos seja dada em coordenadas polares r, θ e queremos convertê-lo em coordenadas cartesianas x, y. Escrevera um programa para fazer isso."
   ]
  },
  {
   "cell_type": "code",
   "execution_count": null,
   "id": "dced1d17",
   "metadata": {},
   "outputs": [],
   "source": [
    "%pip install ipython"
   ]
  },
  {
   "cell_type": "code",
   "execution_count": 1,
   "id": "09d40823",
   "metadata": {},
   "outputs": [],
   "source": [
    "import base64\n",
    "from IPython.display import Image, display\n",
    "\n",
    "def mm(graph):\n",
    "    graphbytes = graph.encode(\"utf8\")\n",
    "    base64_bytes = base64.urlsafe_b64encode(graphbytes)\n",
    "    base64_string = base64_bytes.decode(\"ascii\")\n",
    "    display(Image(url=\"https://mermaid.ink/img/\" + base64_string))"
   ]
  },
  {
   "cell_type": "code",
   "execution_count": 4,
   "id": "55333141",
   "metadata": {},
   "outputs": [
    {
     "data": {
      "text/html": [
       "<img src=\"https://mermaid.ink/img/Z3JhcGggVEQKICAgIEEoWyJJbsOtY2lvOiBDb252ZXJzw6NvIFBvbGFyIOKGkiBDYXJ0ZXNpYW5hIl0pIC0tPiBCWyJSZWNlYmVyIGNvb3JkZW5hZGFzIHBvbGFyZXMgKHIsIM64KSJdCiAgICBCIC0tPiBDeyJSYWlvIHIgw6kgdsOhbGlkbyAo4omlIDApPyJ9CiAgICBDIC0tPnxOw6NvfCBEWyJFeGliaXIgZXJybyJdCiAgICBDIC0tPnxTaW18IEVbIkNvbnZlcnRlciDDom5ndWxvIHBhcmEgcmFkaWFub3MiXQogICAgRSAtLT4gRlsiQXBsaWNhciB0cmFuc2Zvcm1hw6fDo28gdHJpZ29ub23DqXRyaWNhIl0KICAgIEYgLS0-IEdbIkNhbGN1bGFyIGNvb3JkZW5hZGEgeCB1c2FuZG8gY29zc2VubyJdCiAgICBHIC0tPiBIWyJDYWxjdWxhciBjb29yZGVuYWRhIHkgdXNhbmRvIHNlbm8iXQogICAgSCAtLT4gSVsiUmV0b3JuYXIgY29vcmRlbmFkYXMgY2FydGVzaWFuYXMgKHgsIHkpIl0KICAgIEQgLS0-IEooWyJGaW0iXSkKICAgIEkgLS0-IEoK\"/>"
      ],
      "text/plain": [
       "<IPython.core.display.Image object>"
      ]
     },
     "metadata": {},
     "output_type": "display_data"
    }
   ],
   "source": [
    "diagrama =\"\"\"graph TD\n",
    "    A([\"Início: Conversão Polar → Cartesiana\"]) --> B[\"Receber coordenadas polares (r, θ)\"]\n",
    "    B --> C{\"Raio r é válido (≥ 0)?\"}\n",
    "    C -->|Não| D[\"Exibir erro\"]\n",
    "    C -->|Sim| E[\"Converter ângulo para radianos\"]\n",
    "    E --> F[\"Aplicar transformação trigonométrica\"]\n",
    "    F --> G[\"Calcular coordenada x usando cosseno\"]\n",
    "    G --> H[\"Calcular coordenada y usando seno\"]\n",
    "    H --> I[\"Retornar coordenadas cartesianas (x, y)\"]\n",
    "    D --> J([\"Fim\"])\n",
    "    I --> J\n",
    "\"\"\"\n",
    "\n",
    "mm(diagrama)"
   ]
  },
  {
   "cell_type": "code",
   "execution_count": 2,
   "id": "7bf7713b",
   "metadata": {},
   "outputs": [],
   "source": [
    "import math\n",
    "\n",
    "def polar_para_cartesiano(r, theta_em_graus):\n",
    "    \"\"\"\n",
    "    Converte coordenadas polares (r, θ) para coordenadas cartesianas (x, y).\n",
    "    \n",
    "    Args:\n",
    "        r (float): A distância radial a partir da origem (deve ser não negativa).\n",
    "        theta_em_graus (float): O ângulo em graus.\n",
    "        \n",
    "    Retorna:\n",
    "        tuple: Uma tupla contendo as coordenadas (x, y), ou None se a entrada for inválida.\n",
    "    \"\"\"\n",
    "    \n",
    "    # Etapa 1 - Validar a distância radial 'r'.\n",
    "    # Em coordenadas polares padrão, r não pode ser negativo.\n",
    "    if r < 0:\n",
    "        print(\"Erro: A distância radial 'r' não pode ser negativa.\")\n",
    "        return None\n",
    "    \n",
    "    # Etapa 2 - Converter o ângulo de graus para radianos.\n",
    "    # A função math.radians() faz a conversão: graus * (pi / 180).\n",
    "    theta_em_radianos = math.radians(theta_em_graus)\n",
    "    \n",
    "    # Etapa 3 - Aplicar as fórmulas de conversão.\n",
    "    # x = r * cos(θ)\n",
    "    x = r * math.cos(theta_em_radianos)\n",
    "    \n",
    "    # y = r * sin(θ)\n",
    "    y = r * math.sin(theta_em_radianos)\n",
    "    \n",
    "    # Etapa 4 Retornar as coordenadas cartesianas calculadas.\n",
    "    return (x, y)\n"
   ]
  },
  {
   "cell_type": "code",
   "execution_count": 5,
   "id": "c59aad4b",
   "metadata": {},
   "outputs": [
    {
     "name": "stdout",
     "output_type": "stream",
     "text": [
      "Teste com valores exemplo\n",
      "As coordenadas cartesianas para r=1 e θ=0 graus são: x=1.00, y=0.00\n",
      "As coordenadas cartesianas para r=1 e θ=90 graus são: x=0.00, y=1.00\n",
      "As coordenadas cartesianas para r=5 e θ=45 graus são: x=3.54, y=3.54\n",
      "As coordenadas cartesianas para r=10 e θ=180 graus são: x=-10.00, y=0.00\n"
     ]
    }
   ],
   "source": [
    "if __name__ == \"__main__\":\n",
    "    print(\"Teste com valores exemplo\")\n",
    "    casos_teste = [(1,0),\n",
    "                   (1,90),\n",
    "                   (5,45),\n",
    "                   (10,180),]\n",
    "    \n",
    "    for r, theta in casos_teste:\n",
    "        resultado = polar_para_cartesiano(r, theta)\n",
    "        if resultado:\n",
    "            print(f\"As coordenadas cartesianas para r={r} e θ={theta} graus são: x={resultado[0]:.2f}, y={resultado[1]:.2f}\")\n",
    "        else:\n",
    "            print(\"Falha na conversão das coordenadas polares para cartesianas.\")"
   ]
  },
  {
   "cell_type": "code",
   "execution_count": null,
   "id": "6a0d74e4",
   "metadata": {},
   "outputs": [],
   "source": []
  }
 ],
 "metadata": {
  "kernelspec": {
   "display_name": "fis-comp",
   "language": "python",
   "name": "python3"
  },
  "language_info": {
   "codemirror_mode": {
    "name": "ipython",
    "version": 3
   },
   "file_extension": ".py",
   "mimetype": "text/x-python",
   "name": "python",
   "nbconvert_exporter": "python",
   "pygments_lexer": "ipython3",
   "version": "3.12.3"
  }
 },
 "nbformat": 4,
 "nbformat_minor": 5
}
