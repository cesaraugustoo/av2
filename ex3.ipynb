{
 "cells": [
  {
   "cell_type": "markdown",
   "id": "28730a34",
   "metadata": {},
   "source": [
    "### Exercício 3"
   ]
  },
  {
   "cell_type": "markdown",
   "id": "09071a15",
   "metadata": {},
   "source": [
    "Suponha que a posição de um ponto no espaço bidimensional nos seja dada em coordenadas polares r, θ e queremos convertê-lo em coordenadas cartesianas x, y. Escrevera um programa para fazer isso."
   ]
  },
  {
   "cell_type": "code",
   "execution_count": null,
   "id": "7bf7713b",
   "metadata": {},
   "outputs": [],
   "source": [
    "import math\n",
    "\n",
    "def polar_para_cartesiano(r, theta_em_graus):\n",
    "    \"\"\"\n",
    "    Converte coordenadas polares (r, θ) para coordenadas cartesianas (x, y).\n",
    "    \n",
    "    Args:\n",
    "        r (float): A distância radial a partir da origem (deve ser não negativa).\n",
    "        theta_em_graus (float): O ângulo em graus.\n",
    "        \n",
    "    Retorna:\n",
    "        tuple: Uma tupla contendo as coordenadas (x, y), ou None se a entrada for inválida.\n",
    "    \"\"\"\n",
    "    \n",
    "    # --- Etapa 1: Validar a distância radial 'r'. ---\n",
    "    # Em coordenadas polares padrão, r não pode ser negativo.\n",
    "    if r < 0:\n",
    "        print(\"Erro: A distância radial 'r' não pode ser negativa.\")\n",
    "        return None\n",
    "    \n",
    "    # --- Etapa 2: Converter o ângulo de graus para radianos. ---\n",
    "    # A função math.radians() faz a conversão: graus * (pi / 180).\n",
    "    theta_em_radianos = math.radians(theta_em_graus)\n",
    "    \n",
    "    # --- Etapa 3: Aplicar as fórmulas de conversão. ---\n",
    "    # x = r * cos(θ)\n",
    "    x = r * math.cos(theta_em_radianos)\n",
    "    \n",
    "    # y = r * sin(θ)\n",
    "    y = r * math.sin(theta_em_radianos)\n",
    "    \n",
    "    # --- Etapa 4: Retornar as coordenadas cartesianas calculadas. ---\n",
    "    # Uma tupla é uma forma prática de agrupar os valores de x e y.\n",
    "    return (x, y)\n"
   ]
  },
  {
   "cell_type": "code",
   "execution_count": null,
   "id": "5f962cc7",
   "metadata": {},
   "outputs": [],
   "source": [
    "print(\"--- Conversor Interativo de Coordenadas Polares para Cartesianas ---\")\n",
    "\n",
    "# Usa um bloco try-except para tratar casos em que a entrada não seja numérica.\n",
    "try:\n",
    "    # --- Solicita ao usuário as coordenadas polares ---\n",
    "    r_input = float(input(\"Digite a distância radial (r): \"))\n",
    "    theta_input = float(input(\"Digite o ângulo em graus (θ): \"))\n",
    "    \n",
    "    # --- Chama a função de conversão ---\n",
    "    coordenadas_cartesianas = polar_para_cartesiano(r_input, theta_input)\n",
    "    \n",
    "    # --- Exibe o resultado ---\n",
    "    # A função retorna 'None' se a entrada for inválida (por exemplo, r < 0).\n",
    "    # Verificamos isso antes de mostrar os resultados.\n",
    "    if coordenadas_cartesianas is not None:\n",
    "        # Desempacota a tupla para facilitar a impressão\n",
    "        x_coord, y_coord = coordenadas_cartesianas\n",
    "        \n",
    "        print(\"\\n--- Resultado ---\")\n",
    "        print(f\"As coordenadas cartesianas (x, y) são: ({x_coord:.4f}, {y_coord:.4f})\")\n",
    "        \n",
    "except ValueError:\n",
    "    # Este bloco é executado se float() falhar porque a entrada não era um número.\n",
    "    print(\"\\nErro: Entrada inválida. Por favor, digite valores numéricos para r e θ.\")\n"
   ]
  }
 ],
 "metadata": {
  "kernelspec": {
   "display_name": "fis-comp",
   "language": "python",
   "name": "python3"
  },
  "language_info": {
   "codemirror_mode": {
    "name": "ipython",
    "version": 3
   },
   "file_extension": ".py",
   "mimetype": "text/x-python",
   "name": "python",
   "nbconvert_exporter": "python",
   "pygments_lexer": "ipython3",
   "version": "3.12.3"
  }
 },
 "nbformat": 4,
 "nbformat_minor": 5
}
