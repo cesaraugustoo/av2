{
 "cells": [
  {
   "cell_type": "markdown",
   "id": "28730a34",
   "metadata": {},
   "source": [
    "### Exercício 3"
   ]
  },
  {
   "cell_type": "markdown",
   "id": "09071a15",
   "metadata": {},
   "source": [
    "Suponha que a posição de um ponto no espaço bidimensional nos seja dada em coordenadas polares r, θ e queremos convertê-lo em coordenadas cartesianas x, y. Escrevera um programa para fazer isso."
   ]
  },
  {
   "cell_type": "code",
   "execution_count": null,
   "id": "dced1d17",
   "metadata": {},
   "outputs": [],
   "source": [
    "%pip install ipython"
   ]
  },
  {
   "cell_type": "code",
   "execution_count": 6,
   "id": "09d40823",
   "metadata": {},
   "outputs": [],
   "source": [
    "import base64\n",
    "from IPython.display import Image, display\n",
    "\n",
    "def mm(graph):\n",
    "    graphbytes = graph.encode(\"utf8\")\n",
    "    base64_bytes = base64.urlsafe_b64encode(graphbytes)\n",
    "    base64_string = base64_bytes.decode(\"ascii\")\n",
    "    display(Image(url=\"https://mermaid.ink/img/\" + base64_string))"
   ]
  },
  {
   "cell_type": "code",
   "execution_count": 18,
   "id": "55333141",
   "metadata": {},
   "outputs": [
    {
     "data": {
      "text/html": [
       "<img src=\"https://mermaid.ink/img/CmZsb3djaGFydCBURAogICAgQVsiU3RhcnQ6IHBvbGFyX3BhcmFfY2FydGVzaWFubyhyLCB0aGV0YV9lbV9ncmF1cykiXSAtLT4gQnsiciA8IDA_In0KICAgIEIgLS0-fFNpbXwgQ1siUHJpbnQgZXJyb3IgbWVzc2FnZSJdCiAgICBDIC0tPiBEWyJSZXR1cm4gTm9uZSJdCiAgICBCIC0tPnxOw6NvfCBFWyJ0aGV0YV9lbV9yYWRpYW5vcyA9IG1hdGgucmFkaWFucyh0aGV0YV9lbV9ncmF1cykiXQogICAgRSAtLT4gRlsieCA9IHIgKiBtYXRoLmNvcyh0aGV0YV9lbV9yYWRpYW5vcykiXQogICAgRiAtLT4gR1sieSA9IHIgKiBtYXRoLnNpbih0aGV0YV9lbV9yYWRpYW5vcykiXQogICAgRyAtLT4gSFsiUmV0dXJuICh4LCB5KSJdCiAgIA==\"/>"
      ],
      "text/plain": [
       "<IPython.core.display.Image object>"
      ]
     },
     "metadata": {},
     "output_type": "display_data"
    }
   ],
   "source": [
    "mm(\"\"\"\n",
    "flowchart TD\n",
    "    A[\"Start: polar_para_cartesiano(r, theta_em_graus)\"] --> B{\"r < 0?\"}\n",
    "    B -->|Sim| C[\"Print error message\"]\n",
    "    C --> D[\"Return None\"]\n",
    "    B -->|Não| E[\"theta_em_radianos = math.radians(theta_em_graus)\"]\n",
    "    E --> F[\"x = r * math.cos(theta_em_radianos)\"]\n",
    "    F --> G[\"y = r * math.sin(theta_em_radianos)\"]\n",
    "    G --> H[\"Return (x, y)\"]\n",
    "   \"\"\")"
   ]
  },
  {
   "cell_type": "code",
   "execution_count": 2,
   "id": "7bf7713b",
   "metadata": {},
   "outputs": [],
   "source": [
    "import math\n",
    "\n",
    "def polar_para_cartesiano(r, theta_em_graus):\n",
    "    \"\"\"\n",
    "    Converte coordenadas polares (r, θ) para coordenadas cartesianas (x, y).\n",
    "    \n",
    "    Args:\n",
    "        r (float): A distância radial a partir da origem (deve ser não negativa).\n",
    "        theta_em_graus (float): O ângulo em graus.\n",
    "        \n",
    "    Retorna:\n",
    "        tuple: Uma tupla contendo as coordenadas (x, y), ou None se a entrada for inválida.\n",
    "    \"\"\"\n",
    "    \n",
    "    # Etapa 1 - Validar a distância radial 'r'.\n",
    "    # Em coordenadas polares padrão, r não pode ser negativo.\n",
    "    if r < 0:\n",
    "        print(\"Erro: A distância radial 'r' não pode ser negativa.\")\n",
    "        return None\n",
    "    \n",
    "    # Etapa 2 - Converter o ângulo de graus para radianos.\n",
    "    # A função math.radians() faz a conversão: graus * (pi / 180).\n",
    "    theta_em_radianos = math.radians(theta_em_graus)\n",
    "    \n",
    "    # Etapa 3 - Aplicar as fórmulas de conversão.\n",
    "    # x = r * cos(θ)\n",
    "    x = r * math.cos(theta_em_radianos)\n",
    "    \n",
    "    # y = r * sin(θ)\n",
    "    y = r * math.sin(theta_em_radianos)\n",
    "    \n",
    "    # Etapa 4 Retornar as coordenadas cartesianas calculadas.\n",
    "    return (x, y)\n"
   ]
  },
  {
   "cell_type": "code",
   "execution_count": 5,
   "id": "c59aad4b",
   "metadata": {},
   "outputs": [
    {
     "name": "stdout",
     "output_type": "stream",
     "text": [
      "Teste com valores exemplo\n",
      "As coordenadas cartesianas para r=1 e θ=0 graus são: x=1.00, y=0.00\n",
      "As coordenadas cartesianas para r=1 e θ=90 graus são: x=0.00, y=1.00\n",
      "As coordenadas cartesianas para r=5 e θ=45 graus são: x=3.54, y=3.54\n",
      "As coordenadas cartesianas para r=10 e θ=180 graus são: x=-10.00, y=0.00\n"
     ]
    }
   ],
   "source": [
    "if __name__ == \"__main__\":\n",
    "    print(\"Teste com valores exemplo\")\n",
    "    casos_teste = [(1,0),\n",
    "                   (1,90),\n",
    "                   (5,45),\n",
    "                   (10,180),]\n",
    "    \n",
    "    for r, theta in casos_teste:\n",
    "        resultado = polar_para_cartesiano(r, theta)\n",
    "        if resultado:\n",
    "            print(f\"As coordenadas cartesianas para r={r} e θ={theta} graus são: x={resultado[0]:.2f}, y={resultado[1]:.2f}\")\n",
    "        else:\n",
    "            print(\"Falha na conversão das coordenadas polares para cartesianas.\")"
   ]
  },
  {
   "cell_type": "code",
   "execution_count": null,
   "id": "6a0d74e4",
   "metadata": {},
   "outputs": [],
   "source": []
  }
 ],
 "metadata": {
  "kernelspec": {
   "display_name": "base",
   "language": "python",
   "name": "python3"
  },
  "language_info": {
   "codemirror_mode": {
    "name": "ipython",
    "version": 3
   },
   "file_extension": ".py",
   "mimetype": "text/x-python",
   "name": "python",
   "nbconvert_exporter": "python",
   "pygments_lexer": "ipython3",
   "version": "3.12.7"
  }
 },
 "nbformat": 4,
 "nbformat_minor": 5
}
