{
 "cells": [
  {
   "cell_type": "markdown",
   "id": "05df66f8",
   "metadata": {},
   "source": [
    "### Exercício 2"
   ]
  },
  {
   "cell_type": "markdown",
   "id": "c7d87789",
   "metadata": {},
   "source": [
    "Faça um programa que diz se um número inteiro é primo ou não. Note que vc não deveria incluir uma lista para comparar seguindo os números primos e sim, usando a definição de número primo dizer se aquele número (0 a 1 milhão) é primo ou não."
   ]
  },
  {
   "cell_type": "code",
   "execution_count": null,
   "id": "6b7d4446",
   "metadata": {},
   "outputs": [],
   "source": [
    "%pip install ipython"
   ]
  },
  {
   "cell_type": "code",
   "execution_count": 2,
   "id": "17349b1e",
   "metadata": {},
   "outputs": [],
   "source": [
    "import base64\n",
    "from IPython.display import Image, display\n",
    "\n",
    "def mm(graph):\n",
    "    graphbytes = graph.encode(\"utf8\")\n",
    "    base64_bytes = base64.urlsafe_b64encode(graphbytes)\n",
    "    base64_string = base64_bytes.decode(\"ascii\")\n",
    "    display(Image(url=\"https://mermaid.ink/img/\" + base64_string))"
   ]
  },
  {
   "cell_type": "code",
   "execution_count": 7,
   "id": "79e52a5e",
   "metadata": {},
   "outputs": [
    {
     "data": {
      "text/html": [
       "<img src=\"https://mermaid.ink/img/CmdyYXBoIFRECiAgICBBWyJJbsOtY2lvOiBWZXJpZmljYcOnw6NvIGRlIFByaW1vIl0gLS0-IEJbIlJlY2ViZXIgbsO6bWVybyBuIl0KICAgIEIgLS0-IEN7Im4gw6kgbWVub3Igb3UgaWd1YWwgYSAxPyJ9CiAgICBDIC0tPnxTaW18IERbIk7Do28gw6kgcHJpbW8iXQogICAgQyAtLT58TsOjb3wgRXsibiDDqSBpZ3VhbCBhIDI_In0KICAgIEUgLS0-fFNpbXwgRlsiw4kgcHJpbW8iXQogICAgRSAtLT58TsOjb3wgR3sibiDDqSBwYXI_In0KICAgIEcgLS0-fFNpbXwgSFsiTsOjbyDDqSBwcmltbyJdCiAgICBHIC0tPnxOw6NvfCBJWyJUZXN0YXIgZGl2aXNpYmlsaWRhZGUgcG9yIG7Dum1lcm9zIMOtbXBhcmVzIl0KICAgIEkgLS0-IEp7IkVuY29udHJvdSBhbGd1bSBkaXZpc29yPyJ9CiAgICBKIC0tPnxTaW18IEtbIk7Do28gw6kgcHJpbW8iXQogICAgSiAtLT58TsOjb3wgTFsiw4kgcHJpbW8iXQoKICAgIEQgLS0-IFRbIkZpbSJdCiAgICBGIC0tPiBUCiAgICBIIC0tPiBUCiAgICBLIC0tPiBUCiAgICBMIC0tPiBUCg==\"/>"
      ],
      "text/plain": [
       "<IPython.core.display.Image object>"
      ]
     },
     "metadata": {},
     "output_type": "display_data"
    }
   ],
   "source": [
    "diagrama= \"\"\"\n",
    "graph TD\n",
    "    A[\"Início: Verificação de Primo\"] --> B[\"Receber número n\"]\n",
    "    B --> C{\"n é menor ou igual a 1?\"}\n",
    "    C -->|Sim| D[\"Não é primo\"]\n",
    "    C -->|Não| E{\"n é igual a 2?\"}\n",
    "    E -->|Sim| F[\"É primo\"]\n",
    "    E -->|Não| G{\"n é par?\"}\n",
    "    G -->|Sim| H[\"Não é primo\"]\n",
    "    G -->|Não| I[\"Testar divisibilidade por números ímpares\"]\n",
    "    I --> J{\"Encontrou algum divisor?\"}\n",
    "    J -->|Sim| K[\"Não é primo\"]\n",
    "    J -->|Não| L[\"É primo\"]\n",
    "    \n",
    "    D --> T[\"Fim\"]\n",
    "    F --> T\n",
    "    H --> T\n",
    "    K --> T\n",
    "    L --> T\n",
    "\"\"\"\n",
    "mm(diagrama)"
   ]
  },
  {
   "cell_type": "code",
   "execution_count": 3,
   "id": "d5a121ef",
   "metadata": {},
   "outputs": [],
   "source": [
    "def primo(n):\n",
    "    \"\"\"\n",
    "    Verifica se um número inteiro n é um número primo, usando sua definição.\n",
    "    \n",
    "    Args:\n",
    "        n (int): O número inteiro a ser verificado.\n",
    "        \n",
    "    Return:\n",
    "        bool: True se n for um número primo, False caso contrário.\n",
    "    \"\"\"\n",
    "    \n",
    "    # Etapa 1 - Casos básicos: Números primos devem ser maiores que 1.\n",
    "    if n <= 1:\n",
    "        return False\n",
    "        \n",
    "    # Etapa 2 - O número 2 é o único primo par.\n",
    "    if n == 2:\n",
    "        return True\n",
    "        \n",
    "    # Etapa 3 - Todos os outros números pares não são primos.\n",
    "    # Portanto, o operador módulo (%) retorna zero.\n",
    "    if n % 2 == 0:\n",
    "        return False\n",
    "        \n",
    "    # Etapa 4 - Verificar divisores ímpares de 3 até a raiz quadrada de n.\n",
    "    # Verificação a partir do primeiro primo ímpar, 3.\n",
    "    i = 3\n",
    "    while i * i <= n:\n",
    "        # Se n for divisível por i, o operador módulo é nulo. Logo, não é primo.\n",
    "        if n % i == 0:\n",
    "            return False\n",
    "        # Avançar para o próximo número ímpar.\n",
    "        i += 2\n",
    "        \n",
    "    # Etapa 5 - Se o laço terminar sem encontrar divisores, o número é primo.\n",
    "    return True"
   ]
  },
  {
   "cell_type": "code",
   "execution_count": 11,
   "id": "2d29d58b",
   "metadata": {},
   "outputs": [
    {
     "name": "stdout",
     "output_type": "stream",
     "text": [
      "--- Teste Interativo de Número Primo ---\n",
      "\n",
      "Resultado: O número 7 É PRIMO.\n"
     ]
    }
   ],
   "source": [
    "print(\"--- Teste Interativo de Número Primo ---\")\n",
    "\n",
    "# Entrada do usuário\n",
    "entrada_usuario = input(\"Digite um número inteiro (de 0 a 1.000.000): \")\n",
    "\n",
    "# Bloco try-except para tratar casos em que a entrada não é um número inteiro válido\n",
    "try:\n",
    "    # Converte a string de entrada para um número inteiro\n",
    "    numero = int(entrada_usuario)\n",
    "    \n",
    "    # Valida se o número está dentro da faixa especificada\n",
    "    if 0 <= numero <= 1000000:\n",
    "        # Chama a função primo e imprime o resultado\n",
    "        if primo(numero):\n",
    "            print(f\"\\nResultado: O número {numero} É PRIMO.\")\n",
    "        else:\n",
    "            print(f\"\\nResultado: O número {numero} NÃO É PRIMO.\")\n",
    "    else:\n",
    "        print(\"\\nErro: Por favor, digite um número entre 0 e 1.000.000.\")\n",
    "        \n",
    "except ValueError:\n",
    "    print(\"\\nErro: Entrada inválida. Por favor, digite um número inteiro válido.\")"
   ]
  }
 ],
 "metadata": {
  "kernelspec": {
   "display_name": "fis-comp",
   "language": "python",
   "name": "python3"
  },
  "language_info": {
   "codemirror_mode": {
    "name": "ipython",
    "version": 3
   },
   "file_extension": ".py",
   "mimetype": "text/x-python",
   "name": "python",
   "nbconvert_exporter": "python",
   "pygments_lexer": "ipython3",
   "version": "3.12.3"
  }
 },
 "nbformat": 4,
 "nbformat_minor": 5
}
