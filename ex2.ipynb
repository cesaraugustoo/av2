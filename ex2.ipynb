{
 "cells": [
  {
   "cell_type": "markdown",
   "id": "3e02b32d",
   "metadata": {},
   "source": [
    "### Exercício 2"
   ]
  },
  {
   "cell_type": "markdown",
   "id": "6aae29f4",
   "metadata": {},
   "source": [
    "Faça um programa que diz se um número inteiro é primo ou não. Note que vc não deveria incluir uma lista para comparar seguindo os números primos e sim, usando a definição de número primo dizer se aquele número (0 a 1 milhão) é primo ou não."
   ]
  },
  {
   "cell_type": "code",
   "execution_count": 1,
   "id": "d5a121ef",
   "metadata": {},
   "outputs": [],
   "source": [
    "def primo(n):\n",
    "    \"\"\"\n",
    "    Verifica se um número inteiro n é um número primo, usando sua definição.\n",
    "    \n",
    "    Args:\n",
    "        n (int): O número inteiro a ser verificado.\n",
    "        \n",
    "    Return:\n",
    "        bool: True se n for um número primo, False caso contrário.\n",
    "    \"\"\"\n",
    "    \n",
    "    # Etapa 1: Tratar os casos básicos. Números primos devem ser maiores que 1.\n",
    "    if n <= 1:\n",
    "        return False\n",
    "        \n",
    "    # Etapa 2: O número 2 é o único primo par. Tratar separadamente.\n",
    "    if n == 2:\n",
    "        return True\n",
    "        \n",
    "    # Etapa 3: Todos os outros números pares não são primos.\n",
    "    # O operador módulo (%) retorna o resto de uma divisão.\n",
    "    if n % 2 == 0:\n",
    "        return False\n",
    "        \n",
    "    # Etapa 4: Verificar divisores ímpares de 3 até a raiz quadrada de n.\n",
    "    # Começamos a verificação a partir do primeiro primo ímpar, que é o 3.\n",
    "    i = 3\n",
    "    # Usamos i*i <= n, que é computacionalmente mais eficiente que i <= n**0.5\n",
    "    while i * i <= n:\n",
    "        # Se n for divisível por i sem deixar resto, tem um divisor além de 1 e ele mesmo.\n",
    "        if n % i == 0:\n",
    "            return False\n",
    "        # Avança para o próximo número ímpar.\n",
    "        i += 2\n",
    "        \n",
    "    # Etapa 5: Se o laço termina sem encontrar divisores, o número é primo.\n",
    "    return True"
   ]
  },
  {
   "cell_type": "code",
   "execution_count": null,
   "id": "2d29d58b",
   "metadata": {},
   "outputs": [],
   "source": [
    "print(\"--- Teste Interativo de Número Primo ---\")\n",
    "\n",
    "# Recebe a entrada do usuário\n",
    "entrada_usuario = input(\"Digite um número inteiro (de 0 a 1.000.000): \")\n",
    "\n",
    "# Usa um bloco try-except para lidar com entradas inválidas (não inteiros) de forma amigável.\n",
    "try:\n",
    "    # Converte a string de entrada para um número inteiro\n",
    "    numero = int(entrada_usuario)\n",
    "    \n",
    "    # Valida se o número está dentro da faixa especificada\n",
    "    if 0 <= numero <= 1000000:\n",
    "        # Chama a função eh_primo e imprime o resultado\n",
    "        if primo(numero):\n",
    "            print(f\"\\nResultado: O número {numero} É PRIMO.\")\n",
    "        else:\n",
    "            print(f\"\\nResultado: O número {numero} NÃO É PRIMO.\")\n",
    "    else:\n",
    "        print(\"\\nErro: Por favor, digite um número entre 0 e 1.000.000.\")\n",
    "        \n",
    "except ValueError:\n",
    "    # Este bloco é executado se a conversão int(entrada_usuario) falhar\n",
    "    print(\"\\nErro: Entrada inválida. Por favor, digite um número inteiro válido.\")\n"
   ]
  }
 ],
 "metadata": {
  "kernelspec": {
   "display_name": "fis-comp",
   "language": "python",
   "name": "python3"
  },
  "language_info": {
   "codemirror_mode": {
    "name": "ipython",
    "version": 3
   },
   "file_extension": ".py",
   "mimetype": "text/x-python",
   "name": "python",
   "nbconvert_exporter": "python",
   "pygments_lexer": "ipython3",
   "version": "3.12.3"
  }
 },
 "nbformat": 4,
 "nbformat_minor": 5
}
