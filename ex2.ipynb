{
 "cells": [
  {
   "cell_type": "markdown",
   "id": "3e02b32d",
   "metadata": {},
   "source": [
    "### Exercício 2"
   ]
  },
  {
   "cell_type": "markdown",
   "id": "6aae29f4",
   "metadata": {},
   "source": [
    "Faça um programa que diz se um número inteiro é primo ou não. Note que vc não deveria incluir uma lista para comparar seguindo os números primos e sim, usando a definição de número primo dizer se aquele número (0 a 1 milhão) é primo ou não."
   ]
  },
  {
   "cell_type": "code",
   "execution_count": null,
   "id": "6b7d4446",
   "metadata": {},
   "outputs": [],
   "source": [
    "%pip install ipython"
   ]
  },
  {
   "cell_type": "code",
   "execution_count": 1,
   "id": "17349b1e",
   "metadata": {},
   "outputs": [],
   "source": [
    "import base64\n",
    "from IPython.display import Image, display\n",
    "\n",
    "def mm(graph):\n",
    "    graphbytes = graph.encode(\"utf8\")\n",
    "    base64_bytes = base64.urlsafe_b64encode(graphbytes)\n",
    "    base64_string = base64_bytes.decode(\"ascii\")\n",
    "    display(Image(url=\"https://mermaid.ink/img/\" + base64_string))"
   ]
  },
  {
   "cell_type": "code",
   "execution_count": 14,
   "id": "79e52a5e",
   "metadata": {},
   "outputs": [
    {
     "data": {
      "text/html": [
       "<img src=\"https://mermaid.ink/img/CmZsb3djaGFydCBURAogICAgQVsiU3RhcnQ6IHByaW1vKG4pIl0gLS0-IEJ7Im4gPD0gMT8ifQogICAgQiAtLT58U2ltfCBDWyJSZXR1cm4gRmFsc2UiXQogICAgQiAtLT58TsOjb3wgRHsibiA9PSAyPyJ9CiAgICBEIC0tPnxTaW18IEVbIlJldHVybiBUcnVlIl0KICAgIEQgLS0-fE7Do298IEZ7Im4gJSAyID09IDA_In0KICAgIEYgLS0-fFNpbXwgR1siUmV0dXJuIEZhbHNlIl0KICAgIEYgLS0-fE7Do298IEhbIkluaWNpYSBpID0gMyJdCiAgICBIIC0tPiBJeyJpICogaSA8PSBuPyJ9CiAgICBJIC0tPnxOw6NvfCBKWyJSZXR1cm4gVHJ1ZSJdCiAgICBJIC0tPnxTaW18IEt7Im4gJSBpID09IDA_In0KICAgIEsgLS0-fFNpbXwgTFsiUmV0dXJuIEZhbHNlIl0KICAgIEsgLS0-fE7Do298IE1bImkgPSBpICsgMiJdCiAgICBNIC0tPiBJCiAgICA=\"/>"
      ],
      "text/plain": [
       "<IPython.core.display.Image object>"
      ]
     },
     "metadata": {},
     "output_type": "display_data"
    }
   ],
   "source": [
    "mm(\"\"\"\n",
    "flowchart TD\n",
    "    A[\"Start: primo(n)\"] --> B{\"n <= 1?\"}\n",
    "    B -->|Sim| C[\"Return False\"]\n",
    "    B -->|Não| D{\"n == 2?\"}\n",
    "    D -->|Sim| E[\"Return True\"]\n",
    "    D -->|Não| F{\"n % 2 == 0?\"}\n",
    "    F -->|Sim| G[\"Return False\"]\n",
    "    F -->|Não| H[\"Inicia i = 3\"]\n",
    "    H --> I{\"i * i <= n?\"}\n",
    "    I -->|Não| J[\"Return True\"]\n",
    "    I -->|Sim| K{\"n % i == 0?\"}\n",
    "    K -->|Sim| L[\"Return False\"]\n",
    "    K -->|Não| M[\"i = i + 2\"]\n",
    "    M --> I\n",
    "    \"\"\")"
   ]
  },
  {
   "cell_type": "code",
   "execution_count": 3,
   "id": "d5a121ef",
   "metadata": {},
   "outputs": [],
   "source": [
    "def primo(n):\n",
    "    \"\"\"\n",
    "    Verifica se um número inteiro n é um número primo, usando sua definição.\n",
    "    \n",
    "    Args:\n",
    "        n (int): O número inteiro a ser verificado.\n",
    "        \n",
    "    Return:\n",
    "        bool: True se n for um número primo, False caso contrário.\n",
    "    \"\"\"\n",
    "    \n",
    "    # Etapa 1 - Casos básicos: Números primos devem ser maiores que 1.\n",
    "    if n <= 1:\n",
    "        return False\n",
    "        \n",
    "    # Etapa 2 - O número 2 é o único primo par.\n",
    "    if n == 2:\n",
    "        return True\n",
    "        \n",
    "    # Etapa 3 - Todos os outros números pares não são primos.\n",
    "    # Portanto, o operador módulo (%) retorna zero.\n",
    "    if n % 2 == 0:\n",
    "        return False\n",
    "        \n",
    "    # Etapa 4 - Verificar divisores ímpares de 3 até a raiz quadrada de n.\n",
    "    # Verificação a partir do primeiro primo ímpar, 3.\n",
    "    i = 3\n",
    "    while i * i <= n:\n",
    "        # Se n for divisível por i, o operador módulo é nulo. Logo, não é primo.\n",
    "        if n % i == 0:\n",
    "            return False\n",
    "        # Avançar para o próximo número ímpar.\n",
    "        i += 2\n",
    "        \n",
    "    # Etapa 5 - Se o laço terminar sem encontrar divisores, o número é primo.\n",
    "    return True"
   ]
  },
  {
   "cell_type": "code",
   "execution_count": 11,
   "id": "2d29d58b",
   "metadata": {},
   "outputs": [
    {
     "name": "stdout",
     "output_type": "stream",
     "text": [
      "--- Teste Interativo de Número Primo ---\n",
      "\n",
      "Resultado: O número 7 É PRIMO.\n"
     ]
    }
   ],
   "source": [
    "print(\"--- Teste Interativo de Número Primo ---\")\n",
    "\n",
    "# Entrada do usuário\n",
    "entrada_usuario = input(\"Digite um número inteiro (de 0 a 1.000.000): \")\n",
    "\n",
    "# Bloco try-except para tratar casos em que a entrada não é um número inteiro válido\n",
    "try:\n",
    "    # Converte a string de entrada para um número inteiro\n",
    "    numero = int(entrada_usuario)\n",
    "    \n",
    "    # Valida se o número está dentro da faixa especificada\n",
    "    if 0 <= numero <= 1000000:\n",
    "        # Chama a função primo e imprime o resultado\n",
    "        if primo(numero):\n",
    "            print(f\"\\nResultado: O número {numero} É PRIMO.\")\n",
    "        else:\n",
    "            print(f\"\\nResultado: O número {numero} NÃO É PRIMO.\")\n",
    "    else:\n",
    "        print(\"\\nErro: Por favor, digite um número entre 0 e 1.000.000.\")\n",
    "        \n",
    "except ValueError:\n",
    "    print(\"\\nErro: Entrada inválida. Por favor, digite um número inteiro válido.\")"
   ]
  },
  {
   "cell_type": "code",
   "execution_count": null,
   "id": "c3ed8a05",
   "metadata": {},
   "outputs": [],
   "source": []
  }
 ],
 "metadata": {
  "kernelspec": {
   "display_name": "base",
   "language": "python",
   "name": "python3"
  },
  "language_info": {
   "codemirror_mode": {
    "name": "ipython",
    "version": 3
   },
   "file_extension": ".py",
   "mimetype": "text/x-python",
   "name": "python",
   "nbconvert_exporter": "python",
   "pygments_lexer": "ipython3",
   "version": "3.12.7"
  }
 },
 "nbformat": 4,
 "nbformat_minor": 5
}
