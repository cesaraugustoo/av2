{
 "cells": [
  {
   "cell_type": "markdown",
   "id": "d60d9567",
   "metadata": {},
   "source": [
    "### Exercício 5"
   ]
  },
  {
   "cell_type": "markdown",
   "id": "7e511013",
   "metadata": {},
   "source": [
    "Sem usar qualquer função pré estabelecida e usando apenas os comandos de leitura e escrita, além do \"for\" e \"if\", após ler um conjunto de números inteiros de um arquivo, classifique-os em ordem crescente."
   ]
  },
  {
   "cell_type": "code",
   "execution_count": null,
   "id": "ee47fdc8",
   "metadata": {},
   "outputs": [],
   "source": [
    "%pip install ipython"
   ]
  },
  {
   "cell_type": "code",
   "execution_count": 2,
   "id": "a9de289b",
   "metadata": {},
   "outputs": [],
   "source": [
    "import base64\n",
    "from IPython.display import Image, display\n",
    "\n",
    "def mm(graph):\n",
    "    graphbytes = graph.encode(\"utf8\")\n",
    "    base64_bytes = base64.urlsafe_b64encode(graphbytes)\n",
    "    base64_string = base64_bytes.decode(\"ascii\")\n",
    "    display(Image(url=\"https://mermaid.ink/img/\" + base64_string))"
   ]
  },
  {
   "cell_type": "code",
   "execution_count": 5,
   "id": "b9b3fb46",
   "metadata": {},
   "outputs": [
    {
     "data": {
      "text/html": [
       "<img src=\"https://mermaid.ink/img/CmZsb3djaGFydCBURAogICAgQVsiU3RhcnQiXSAtLT4gQlsiTGVyIG8gYXJxdWl2byJdCiAgICBCIC0tPiBDWyJQYXJzZSBpbnRlZ2VycyBmcm9tIGZpbGUiXQogICAgQyAtLT4gRFsiYnViYmxlX3NvcnQobGlzdGFfbnVtZXJvcykiXQogICAgRCAtLT4gRVsibiA9IGxlbihsaXN0YV9udW1lcm9zKSJdCiAgICBFIC0tPiBGWyJpID0gMCJdCiAgICBGIC0tPiBHeyJpIDwgbj8ifQogICAgRyAtLT58TsOjb3wgSFsiUmV0dXJuIGxpc3RhX251bWVyb3Mgb3JkZW5hZG8iXQogICAgSCAtLT4gSVsiQXByZXNlbnRhIG9zIHZhbG9yZXMgb3JkZW5hZG9zIl0KICAgIEkgLS0-IEpbIkVuZCJdCiAgICBHIC0tPnxTaW18IEtbImogPSAwIl0KICAgIEsgLS0-IEx7ImogPCBuIC0gaSAtIDE_In0KICAgIEwgLS0-fE7Do298IE1bImkgPSBpICsgMSJdCiAgICBNIC0tPiBHCiAgICBMIC0tPnxTaW18IE57Imxpc3RhX251bWVyb3Nbal0gPiBsaXN0YV9udW1lcm9zW2ogKyAxXT8ifQogICAgTiAtLT58TsOjb3wgT1siaiA9IGogKyAxIl0KICAgIE4gLS0-fFNpbXwgUFsiVHJvY2EgbGlzdGFfbnVtZXJvc1tqXSBjb20gbGlzdGFfbnVtZXJvc1tqICsgMV0iXQogICAgUCAtLT4gTwogICAgTyAtLT4gTAo=\"/>"
      ],
      "text/plain": [
       "<IPython.core.display.Image object>"
      ]
     },
     "metadata": {},
     "output_type": "display_data"
    }
   ],
   "source": [
    "mm(\"\"\"\n",
    "flowchart TD\n",
    "    A[\"Start\"] --> B[\"Ler o arquivo\"]\n",
    "    B --> C[\"Parse integers from file\"]\n",
    "    C --> D[\"bubble_sort(lista_numeros)\"]\n",
    "    D --> E[\"n = len(lista_numeros)\"]\n",
    "    E --> F[\"i = 0\"]\n",
    "    F --> G{\"i < n?\"}\n",
    "    G -->|Não| H[\"Return lista_numeros ordenado\"]\n",
    "    H --> I[\"Apresenta os valores ordenados\"]\n",
    "    I --> J[\"End\"]\n",
    "    G -->|Sim| K[\"j = 0\"]\n",
    "    K --> L{\"j < n - i - 1?\"}\n",
    "    L -->|Não| M[\"i = i + 1\"]\n",
    "    M --> G\n",
    "    L -->|Sim| N{\"lista_numeros[j] > lista_numeros[j + 1]?\"}\n",
    "    N -->|Não| O[\"j = j + 1\"]\n",
    "    N -->|Sim| P[\"Troca lista_numeros[j] com lista_numeros[j + 1]\"]\n",
    "    P --> O\n",
    "    O --> L\n",
    "\"\"\")"
   ]
  },
  {
   "cell_type": "code",
   "execution_count": 6,
   "id": "f48a2137",
   "metadata": {},
   "outputs": [],
   "source": [
    "def bubble_sort(lista_numeros):\n",
    "    \"\"\"\n",
    "    Ordena uma lista de números em ordem crescente usando o algoritmo Bubble Sort.\n",
    "    \n",
    "    Args:\n",
    "        lista_numeros (list): Uma lista de números inteiros.\n",
    "        \n",
    "    Retorna:\n",
    "        list: A lista de inteiros ordenada.\n",
    "    \"\"\"\n",
    "    # Obtém o número de elementos na lista\n",
    "    n = len(lista_numeros)\n",
    "    \n",
    "    # --- Laço externo para as passagens ---\n",
    "    # Controla quantas vezes a lista é percorrida totalmente.\n",
    "    # No máximo, serão necessárias n-1 passagens para ordenar completamente.\n",
    "    for i in range(n):\n",
    "        \n",
    "        # --- Laço interno para as comparações ---\n",
    "        # Compara elementos adjacentes.\n",
    "        # O intervalo diminui a cada passagem (n - i - 1), pois o maior elemento\n",
    "        # vai sendo deslocado para sua posição final correta após cada passagem.\n",
    "        for j in range(0, n - i - 1):\n",
    "            \n",
    "            # --- Lógica de comparação e troca ---\n",
    "            # Compara o elemento atual com o próximo.\n",
    "            if lista_numeros[j] > lista_numeros[j + 1]:\n",
    "                # Se o elemento atual for maior que o próximo, trocamos os dois.\n",
    "                lista_numeros[j], lista_numeros[j + 1] = lista_numeros[j + 1], lista_numeros[j]\n",
    "                \n",
    "    return lista_numeros"
   ]
  },
  {
   "cell_type": "code",
   "execution_count": 9,
   "id": "6fac66c3",
   "metadata": {},
   "outputs": [
    {
     "name": "stdout",
     "output_type": "stream",
     "text": [
      "Números a serem ordenados: [89, 12, 57, -5, 101, 0, 23]\n",
      "Lista ordenada: [-5, 0, 12, 23, 57, 89, 101]\n"
     ]
    }
   ],
   "source": [
    "# Define os nomes dos arquivos de entrada e saída\n",
    "nome_arquivo_entrada = \"numeros_entrada.txt\"\n",
    "nome_arquivo_saida = \"numeros_ordenados.txt\"\n",
    "\n",
    "# Etapa 1 - Criar um arquivo de entrada de exemplo\n",
    "try:\n",
    "    with open(nome_arquivo_entrada, \"w\") as f:\n",
    "        # Escreve alguns números desordenados, um por linha.\n",
    "        f.write(\"89\\n\")\n",
    "        f.write(\"12\\n\")\n",
    "        f.write(\"57\\n\")\n",
    "        f.write(\"-5\\n\")\n",
    "        f.write(\"101\\n\")\n",
    "        f.write(\"0\\n\")\n",
    "        f.write(\"23\\n\")\n",
    "except IOError as e:\n",
    "    print(f\"Erro ao criar o arquivo: {e}\")\n",
    "\n",
    "\n",
    "# Etapa 2 - Ler os números inteiros do arquivo\n",
    "numeros_para_ordenar = []\n",
    "try:\n",
    "    with open(nome_arquivo_entrada, \"r\") as f:\n",
    "        # Percorre cada linha do arquivo\n",
    "        for linha in f:\n",
    "            try:\n",
    "                # .strip() remove espaços em branco no início/fim (como o '\\n')\n",
    "                # int() converte a string limpa para inteiro\n",
    "                numero = int(linha.strip())\n",
    "                numeros_para_ordenar.append(numero)\n",
    "            except ValueError:\n",
    "                print(f\"  - Aviso: Não foi possível ler '{linha.strip()}', ignorando.\")\n",
    "    print(\"Números a serem ordenados:\", numeros_para_ordenar)\n",
    "except FileNotFoundError:\n",
    "    print(f\"Erro: O arquivo '{nome_arquivo_entrada}' não foi encontrado.\")\n",
    "except IOError as e:\n",
    "    print(f\"Erro ao ler o arquivo: {e}\")\n",
    "\n",
    "\n",
    "# Etapa 3 - Ordenar a lista usando nossa função personalizada\n",
    "lista_ordenada = bubble_sort(numeros_para_ordenar)\n",
    "print(\"Lista ordenada:\", lista_ordenada)\n",
    "\n",
    "\n",
    "# Etapa 4: Escrever a lista ordenada em um novo arquivo\n",
    "try:\n",
    "    with open(nome_arquivo_saida, \"w\") as f:\n",
    "        # Percorre a lista já ordenada\n",
    "        for numero in lista_ordenada:\n",
    "            # Converte o inteiro para string e adiciona um caractere de nova linha\n",
    "            f.write(str(numero) + \"\\n\")\n",
    "except IOError as e:\n",
    "    print(f\"Erro ao escrever no arquivo: {e}\")"
   ]
  },
  {
   "cell_type": "code",
   "execution_count": null,
   "id": "83bafd35",
   "metadata": {},
   "outputs": [],
   "source": []
  }
 ],
 "metadata": {
  "kernelspec": {
   "display_name": "base",
   "language": "python",
   "name": "python3"
  },
  "language_info": {
   "codemirror_mode": {
    "name": "ipython",
    "version": 3
   },
   "file_extension": ".py",
   "mimetype": "text/x-python",
   "name": "python",
   "nbconvert_exporter": "python",
   "pygments_lexer": "ipython3",
   "version": "3.12.7"
  }
 },
 "nbformat": 4,
 "nbformat_minor": 5
}
