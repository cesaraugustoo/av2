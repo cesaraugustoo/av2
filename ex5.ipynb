{
 "cells": [
  {
   "cell_type": "markdown",
   "id": "d60d9567",
   "metadata": {},
   "source": [
    "### Exercício 5"
   ]
  },
  {
   "cell_type": "markdown",
   "id": "7e511013",
   "metadata": {},
   "source": [
    "Sem usar qualquer função pré estabelecida e usando apenas os comandos de leitura e escrita, além do \"for\" e \"if\", após ler um conjunto de números inteiros de um arquivo, classifique-os em ordem crescente."
   ]
  },
  {
   "cell_type": "code",
   "execution_count": null,
   "id": "ee47fdc8",
   "metadata": {},
   "outputs": [],
   "source": [
    "%pip install ipython"
   ]
  },
  {
   "cell_type": "code",
   "execution_count": 1,
   "id": "a9de289b",
   "metadata": {},
   "outputs": [],
   "source": [
    "import base64\n",
    "from IPython.display import Image, display\n",
    "\n",
    "def mm(graph):\n",
    "    graphbytes = graph.encode(\"utf8\")\n",
    "    base64_bytes = base64.urlsafe_b64encode(graphbytes)\n",
    "    base64_string = base64_bytes.decode(\"ascii\")\n",
    "    display(Image(url=\"https://mermaid.ink/img/\" + base64_string))"
   ]
  },
  {
   "cell_type": "code",
   "execution_count": 3,
   "id": "b9b3fb46",
   "metadata": {},
   "outputs": [
    {
     "data": {
      "text/html": [
       "<img src=\"https://mermaid.ink/img/Z3JhcGggVEQKICAgIEEoWyJJbsOtY2lvOiBCdWJibGUgU29ydCJdKSAtLT4gQlsiT2J0ZXIgdGFtYW5obyBkYSBsaXN0YSJdCiAgICBCIC0tPiBDWyJJbmljaWFyIG5vdmEgcGFzc2FnZW0gcGVsYSBsaXN0YSJdCiAgICBDIC0tPiBEWyJDb21wYXJhciBlbGVtZW50b3MgYWRqYWNlbnRlcyJdCiAgICBEIC0tPiBFeyJFbGVtZW50byBhdHVhbCA-IHByw7N4aW1vIGVsZW1lbnRvPyJ9CiAgICBFIC0tPnxTaW18IEZbIlRyb2NhciBlbGVtZW50b3MgZGUgcG9zacOnw6NvIl0KICAgIEUgLS0-fE7Do298IEdbIk1hbnRlciBlbGVtZW50b3MgbmEgcG9zacOnw6NvIl0KICAgIEYgLS0-IEh7IkjDoSBtYWlzIHBhcmVzIHBhcmEgY29tcGFyYXIgbmVzdGEgcGFzc2FnZW0_In0KICAgIEcgLS0-IEgKICAgIEggLS0-fFNpbXwgRAogICAgSCAtLT58TsOjb3wgSXsiTGlzdGEgZXN0w6EgY29tcGxldGFtZW50ZSBvcmRlbmFkYT8ifQogICAgSSAtLT58TsOjb3wgQwogICAgSSAtLT58U2ltfCBKWyJSZXRvcm5hciBsaXN0YSBvcmRlbmFkYSJdCiAgICBKIC0tPiBLKFsiRmltIl0pCg==\"/>"
      ],
      "text/plain": [
       "<IPython.core.display.Image object>"
      ]
     },
     "metadata": {},
     "output_type": "display_data"
    }
   ],
   "source": [
    "diagrama=\"\"\"graph TD\n",
    "    A([\"Início: Bubble Sort\"]) --> B[\"Obter tamanho da lista\"]\n",
    "    B --> C[\"Iniciar nova passagem pela lista\"]\n",
    "    C --> D[\"Comparar elementos adjacentes\"]\n",
    "    D --> E{\"Elemento atual > próximo elemento?\"}\n",
    "    E -->|Sim| F[\"Trocar elementos de posição\"]\n",
    "    E -->|Não| G[\"Manter elementos na posição\"]\n",
    "    F --> H{\"Há mais pares para comparar nesta passagem?\"}\n",
    "    G --> H\n",
    "    H -->|Sim| D\n",
    "    H -->|Não| I{\"Lista está completamente ordenada?\"}\n",
    "    I -->|Não| C\n",
    "    I -->|Sim| J[\"Retornar lista ordenada\"]\n",
    "    J --> K([\"Fim\"])\n",
    "\"\"\"\n",
    "\n",
    "mm(diagrama)"
   ]
  },
  {
   "cell_type": "code",
   "execution_count": 6,
   "id": "f48a2137",
   "metadata": {},
   "outputs": [],
   "source": [
    "def bubble_sort(lista_numeros):\n",
    "    \"\"\"\n",
    "    Ordena uma lista de números em ordem crescente usando o algoritmo Bubble Sort.\n",
    "    \n",
    "    Args:\n",
    "        lista_numeros (list): Uma lista de números inteiros.\n",
    "        \n",
    "    Retorna:\n",
    "        list: A lista de inteiros ordenada.\n",
    "    \"\"\"\n",
    "    # Obtém o número de elementos na lista\n",
    "    n = len(lista_numeros)\n",
    "    \n",
    "    # --- Laço externo para as passagens ---\n",
    "    # Controla quantas vezes a lista é percorrida totalmente.\n",
    "    # No máximo, serão necessárias n-1 passagens para ordenar completamente.\n",
    "    for i in range(n):\n",
    "        \n",
    "        # --- Laço interno para as comparações ---\n",
    "        # Compara elementos adjacentes.\n",
    "        # O intervalo diminui a cada passagem (n - i - 1), pois o maior elemento\n",
    "        # vai sendo deslocado para sua posição final correta após cada passagem.\n",
    "        for j in range(0, n - i - 1):\n",
    "            \n",
    "            # --- Lógica de comparação e troca ---\n",
    "            # Compara o elemento atual com o próximo.\n",
    "            if lista_numeros[j] > lista_numeros[j + 1]:\n",
    "                # Se o elemento atual for maior que o próximo, trocamos os dois.\n",
    "                lista_numeros[j], lista_numeros[j + 1] = lista_numeros[j + 1], lista_numeros[j]\n",
    "                \n",
    "    return lista_numeros"
   ]
  },
  {
   "cell_type": "code",
   "execution_count": 9,
   "id": "6fac66c3",
   "metadata": {},
   "outputs": [
    {
     "name": "stdout",
     "output_type": "stream",
     "text": [
      "Números a serem ordenados: [89, 12, 57, -5, 101, 0, 23]\n",
      "Lista ordenada: [-5, 0, 12, 23, 57, 89, 101]\n"
     ]
    }
   ],
   "source": [
    "# Define os nomes dos arquivos de entrada e saída\n",
    "nome_arquivo_entrada = \"numeros_entrada.txt\"\n",
    "nome_arquivo_saida = \"numeros_ordenados.txt\"\n",
    "\n",
    "# Etapa 1 - Criar um arquivo de entrada de exemplo\n",
    "try:\n",
    "    with open(nome_arquivo_entrada, \"w\") as f:\n",
    "        # Escreve alguns números desordenados, um por linha.\n",
    "        f.write(\"89\\n\")\n",
    "        f.write(\"12\\n\")\n",
    "        f.write(\"57\\n\")\n",
    "        f.write(\"-5\\n\")\n",
    "        f.write(\"101\\n\")\n",
    "        f.write(\"0\\n\")\n",
    "        f.write(\"23\\n\")\n",
    "except IOError as e:\n",
    "    print(f\"Erro ao criar o arquivo: {e}\")\n",
    "\n",
    "\n",
    "# Etapa 2 - Ler os números inteiros do arquivo\n",
    "numeros_para_ordenar = []\n",
    "try:\n",
    "    with open(nome_arquivo_entrada, \"r\") as f:\n",
    "        # Percorre cada linha do arquivo\n",
    "        for linha in f:\n",
    "            try:\n",
    "                # .strip() remove espaços em branco no início/fim (como o '\\n')\n",
    "                # int() converte a string limpa para inteiro\n",
    "                numero = int(linha.strip())\n",
    "                numeros_para_ordenar.append(numero)\n",
    "            except ValueError:\n",
    "                print(f\"  - Aviso: Não foi possível ler '{linha.strip()}', ignorando.\")\n",
    "    print(\"Números a serem ordenados:\", numeros_para_ordenar)\n",
    "except FileNotFoundError:\n",
    "    print(f\"Erro: O arquivo '{nome_arquivo_entrada}' não foi encontrado.\")\n",
    "except IOError as e:\n",
    "    print(f\"Erro ao ler o arquivo: {e}\")\n",
    "\n",
    "\n",
    "# Etapa 3 - Ordenar a lista usando nossa função personalizada\n",
    "lista_ordenada = bubble_sort(numeros_para_ordenar)\n",
    "print(\"Lista ordenada:\", lista_ordenada)\n",
    "\n",
    "\n",
    "# Etapa 4: Escrever a lista ordenada em um novo arquivo\n",
    "try:\n",
    "    with open(nome_arquivo_saida, \"w\") as f:\n",
    "        # Percorre a lista já ordenada\n",
    "        for numero in lista_ordenada:\n",
    "            # Converte o inteiro para string e adiciona um caractere de nova linha\n",
    "            f.write(str(numero) + \"\\n\")\n",
    "except IOError as e:\n",
    "    print(f\"Erro ao escrever no arquivo: {e}\")"
   ]
  },
  {
   "cell_type": "code",
   "execution_count": null,
   "id": "83bafd35",
   "metadata": {},
   "outputs": [],
   "source": []
  }
 ],
 "metadata": {
  "kernelspec": {
   "display_name": "fis-comp",
   "language": "python",
   "name": "python3"
  },
  "language_info": {
   "codemirror_mode": {
    "name": "ipython",
    "version": 3
   },
   "file_extension": ".py",
   "mimetype": "text/x-python",
   "name": "python",
   "nbconvert_exporter": "python",
   "pygments_lexer": "ipython3",
   "version": "3.12.3"
  }
 },
 "nbformat": 4,
 "nbformat_minor": 5
}
