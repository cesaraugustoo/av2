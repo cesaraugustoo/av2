{
 "cells": [
  {
   "cell_type": "markdown",
   "id": "dd3e17dc",
   "metadata": {},
   "source": [
    "### Exercício 4"
   ]
  },
  {
   "cell_type": "markdown",
   "id": "66af99a6",
   "metadata": {},
   "source": [
    "Digite e compile os programas em C e Fortran contidos nos slides de nosso terceiro encontro. Espera-se que inclua os códigos, prints da tela de compilação e um fluxograma simples"
   ]
  },
  {
   "cell_type": "markdown",
   "id": "a6048eed",
   "metadata": {},
   "source": [
    "## N/A"
   ]
  }
 ],
 "metadata": {
  "language_info": {
   "name": "python"
  }
 },
 "nbformat": 4,
 "nbformat_minor": 5
}
