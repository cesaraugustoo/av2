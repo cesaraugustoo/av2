{
 "cells": [
  {
   "cell_type": "markdown",
   "id": "d48c0023",
   "metadata": {},
   "source": [
    "### Exercício 1"
   ]
  },
  {
   "cell_type": "markdown",
   "id": "0e747ed3",
   "metadata": {},
   "source": [
    "Foi gerado no ChatGPT um código para os orbitais nos átomos de hidrogênio, hélio e lítio. Os códigos estão a seguir:\n",
    "\n",
    "a) Rode o programa e plote os gráficos. O que você percebe em primeira análise?\n",
    "\n",
    "b) Faça um fluxograma deste programa\n",
    "\n",
    "c) Explique de maneira simples a Física por trás destes gráficos"
   ]
  },
  {
   "cell_type": "code",
   "execution_count": null,
   "id": "13ce6073",
   "metadata": {},
   "outputs": [],
   "source": []
  }
 ],
 "metadata": {
  "language_info": {
   "name": "python"
  }
 },
 "nbformat": 4,
 "nbformat_minor": 5
}
